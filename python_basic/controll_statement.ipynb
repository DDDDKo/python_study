{
 "cells": [
  {
   "cell_type": "code",
   "execution_count": 1,
   "metadata": {},
   "outputs": [],
   "source": [
    "# 조건문\n",
    "# if 조건문\n",
    "# if 조건:\n",
    "#   실행문"
   ]
  },
  {
   "cell_type": "code",
   "execution_count": 11,
   "metadata": {},
   "outputs": [
    {
     "name": "stdout",
     "output_type": "stream",
     "text": [
      "짝수\n",
      "짝수\n"
     ]
    }
   ],
   "source": [
    "number = 123456\n",
    "# : 이후에 새로운 코드 블럭이 생기면 라인 첫 공백을 모두 같게 해야함\n",
    "if number % 2 == 0:\n",
    "    print('짝수')\n",
    "    print('짝수')"
   ]
  },
  {
   "cell_type": "code",
   "execution_count": 13,
   "metadata": {},
   "outputs": [],
   "source": [
    "# else 조건문\n",
    "# else:\n",
    "#   실행문"
   ]
  },
  {
   "cell_type": "code",
   "execution_count": 17,
   "metadata": {},
   "outputs": [
    {
     "name": "stdout",
     "output_type": "stream",
     "text": [
      "짝수\n"
     ]
    }
   ],
   "source": [
    "if number % 2 == 0:\n",
    "    print('짝수')\n",
    "else:\n",
    "    print('홀수')"
   ]
  },
  {
   "cell_type": "code",
   "execution_count": 18,
   "metadata": {},
   "outputs": [],
   "source": [
    "# 윤년\n",
    "# 4202년이 윤년인지 아닌지 판별하는 조건문을 작성하시오."
   ]
  },
  {
   "cell_type": "code",
   "execution_count": 98,
   "metadata": {},
   "outputs": [
    {
     "name": "stdout",
     "output_type": "stream",
     "text": [
      "윤년입니다\n"
     ]
    }
   ],
   "source": [
    "year = 2004\n",
    "if year % 400 == 0 or year % 100 != 0 and year % 4 == 0 :\n",
    "    print('윤년입니다')\n",
    "else:\n",
    "    print('윤년이 아닙니다')"
   ]
  },
  {
   "cell_type": "code",
   "execution_count": 101,
   "metadata": {},
   "outputs": [],
   "source": [
    "# elif (else if): 상위에 조건이 false이면서 elif 조건이 true이면 실행\n",
    "# elif 조건:\n",
    "#   실행문"
   ]
  },
  {
   "cell_type": "code",
   "execution_count": 105,
   "metadata": {},
   "outputs": [
    {
     "name": "stdout",
     "output_type": "stream",
     "text": [
      "C\n"
     ]
    }
   ],
   "source": [
    "score = 80\n",
    "if score > 90:\n",
    "    print('A')\n",
    "elif score > 80:\n",
    "    print('B')\n",
    "elif score > 70:\n",
    "    print('C')\n",
    "elif score > 60:\n",
    "    print('D')\n",
    "else:\n",
    "    print('F')"
   ]
  },
  {
   "cell_type": "code",
   "execution_count": null,
   "metadata": {},
   "outputs": [],
   "source": [
    "# 수박등급 구하기\n",
    "# 어떤 농장에서는 수박이 10kg이 넘으면 1등급, 그렇지 않고 7kg이 넘으면 2등급,, \n",
    "# 그렇지 않고 4kg이 넘으면 3등급, 나머지는 4등급을 준다고 한다. 이 수박의 등급을 정하는 파이썬 코드를 작성한다."
   ]
  },
  {
   "cell_type": "code",
   "execution_count": 113,
   "metadata": {},
   "outputs": [
    {
     "name": "stdout",
     "output_type": "stream",
     "text": [
      "1등급\n"
     ]
    }
   ],
   "source": [
    "water_malon = 10\n",
    "if water_malon > 10:\n",
    "    print('1등급')\n",
    "elif water_malon > 7:\n",
    "    print('2등급')\n",
    "elif water_malon > 4:\n",
    "    print('3등급')\n",
    "else:\n",
    "    print('4등급')"
   ]
  },
  {
   "cell_type": "code",
   "execution_count": null,
   "metadata": {},
   "outputs": [],
   "source": [
    "# 중첩 if\n",
    "# if문 안에 if문 (들여쓰기 조심)"
   ]
  },
  {
   "cell_type": "code",
   "execution_count": null,
   "metadata": {},
   "outputs": [],
   "source": [
    "#중학교에서 팔굽혀펴기 시험을 보는데 남자는 10번 이상을 해야 합격(Pass)이고 \n",
    "#아니면 불합격(Fail)이다. 여자는 5번 이상을 해야 합격이라면 다음과 같이 프로그램을 만들 수 있다."
   ]
  },
  {
   "cell_type": "code",
   "execution_count": 120,
   "metadata": {},
   "outputs": [
    {
     "name": "stdout",
     "output_type": "stream",
     "text": [
      "합격\n"
     ]
    }
   ],
   "source": [
    "gender = '여자'\n",
    "count = 2\n",
    "if (gender == '남자' and count >= 10) or (gender == '여자' and count >= 5):\n",
    "    print('합격')\n",
    "else:\n",
    "    print('불합격')"
   ]
  },
  {
   "cell_type": "code",
   "execution_count": 114,
   "metadata": {},
   "outputs": [
    {
     "name": "stdout",
     "output_type": "stream",
     "text": [
      "불합격\n"
     ]
    }
   ],
   "source": [
    "gender = '남자'\n",
    "count = 7\n",
    "if gender == '남자':   # 남자일때\n",
    "    if count >= 10:\n",
    "        print('합격')\n",
    "    else:\n",
    "        print('불합격')\n",
    "else: #여자일때\n",
    "    if count >= 5:\n",
    "        print('합격')\n",
    "    else:\n",
    "        print('불합격')"
   ]
  },
  {
   "cell_type": "code",
   "execution_count": 64,
   "metadata": {},
   "outputs": [
    {
     "name": "stdout",
     "output_type": "stream",
     "text": [
      "A의 형량은:1\n",
      "B의 형량은:1\n"
     ]
    }
   ],
   "source": [
    "XA = bool(int(input('A값(1또는 0)을 입력하세요:')))\n",
    "XB = bool(int(input('B값(1또는 0)을 입력하세요:')))\n",
    "if (XA == True) and (XB == True):\n",
    "    YA = 5\n",
    "    YB = 5\n",
    "elif (XA == False) and (XB == True):\n",
    "    YA = 10\n",
    "    YB = 0\n",
    "elif (XA == True) and (XB == False):\n",
    "    YA = 0\n",
    "    YB = 10\n",
    "else:\n",
    "    YA = 1\n",
    "    YB = 1\n",
    "print('A의 형량은:'+str(YA))\n",
    "print('B의 형량은:'+str(YB))"
   ]
  },
  {
   "cell_type": "code",
   "execution_count": 74,
   "metadata": {},
   "outputs": [
    {
     "name": "stdout",
     "output_type": "stream",
     "text": [
      "A의 형량은:1\n",
      "B의 형량은:1\n"
     ]
    }
   ],
   "source": [
    "XA = bool(int(input('A값(1또는 0)을 입력하세요:')))\n",
    "XB = bool(int(input('B값(1또는 0)을 입력하세요:')))\n",
    "if (XA == True):\n",
    "    if (XB == True):\n",
    "        YA = 5\n",
    "        YB = 5\n",
    "    else:\n",
    "        YA = 0\n",
    "        YB = 10 \n",
    "else:\n",
    "    if(XB == True):\n",
    "        YA = 10\n",
    "        YB = 0\n",
    "    else:\n",
    "        YA = 1\n",
    "        YB = 1\n",
    "print('A의 형량은:'+str(YA))\n",
    "print('B의 형량은:'+str(YB))"
   ]
  },
  {
   "cell_type": "code",
   "execution_count": 13,
   "metadata": {},
   "outputs": [
    {
     "name": "stdout",
     "output_type": "stream",
     "text": [
      "윤년이 아닙니다\n"
     ]
    }
   ],
   "source": [
    "year = int(input('해당 연도 입력:'))\n",
    "if year % 4 == 0 and year % 100 != 0:\n",
    "    print('윤년입니다')\n",
    "elif year % 400 == 0:\n",
    "    print('윤년입니다.')\n",
    "else:\n",
    "    print('윤년이 아닙니다')"
   ]
  },
  {
   "cell_type": "code",
   "execution_count": null,
   "metadata": {},
   "outputs": [],
   "source": []
  }
 ],
 "metadata": {
  "kernelspec": {
   "display_name": "Python 3",
   "language": "python",
   "name": "python3"
  },
  "language_info": {
   "codemirror_mode": {
    "name": "ipython",
    "version": 3
   },
   "file_extension": ".py",
   "mimetype": "text/x-python",
   "name": "python",
   "nbconvert_exporter": "python",
   "pygments_lexer": "ipython3",
   "version": "3.12.2"
  }
 },
 "nbformat": 4,
 "nbformat_minor": 2
}
